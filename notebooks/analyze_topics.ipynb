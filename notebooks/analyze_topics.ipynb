{
 "cells": [
  {
   "cell_type": "code",
   "execution_count": 1,
   "metadata": {},
   "outputs": [],
   "source": [
    "import csv\n",
    "import matplotlib.pyplot as plt\n",
    "import numpy as np\n",
    "import pandas as pd"
   ]
  },
  {
   "cell_type": "markdown",
   "metadata": {},
   "source": [
    "## 25 topics"
   ]
  },
  {
   "cell_type": "code",
   "execution_count": 71,
   "metadata": {},
   "outputs": [
    {
     "data": {
      "text/html": [
       "<div>\n",
       "<style scoped>\n",
       "    .dataframe tbody tr th:only-of-type {\n",
       "        vertical-align: middle;\n",
       "    }\n",
       "\n",
       "    .dataframe tbody tr th {\n",
       "        vertical-align: top;\n",
       "    }\n",
       "\n",
       "    .dataframe thead th {\n",
       "        text-align: right;\n",
       "    }\n",
       "</style>\n",
       "<table border=\"1\" class=\"dataframe\">\n",
       "  <thead>\n",
       "    <tr style=\"text-align: right;\">\n",
       "      <th></th>\n",
       "      <th>film</th>\n",
       "      <th>main_char</th>\n",
       "      <th>gender</th>\n",
       "      <th>top_topic</th>\n",
       "    </tr>\n",
       "  </thead>\n",
       "  <tbody>\n",
       "    <tr>\n",
       "      <th>0</th>\n",
       "      <td>The Doom Generation</td>\n",
       "      <td>amy</td>\n",
       "      <td>1.0</td>\n",
       "      <td>23</td>\n",
       "    </tr>\n",
       "    <tr>\n",
       "      <th>1</th>\n",
       "      <td>The Doom Generation</td>\n",
       "      <td>jordan</td>\n",
       "      <td>1.0</td>\n",
       "      <td>6</td>\n",
       "    </tr>\n",
       "    <tr>\n",
       "      <th>2</th>\n",
       "      <td>The Doom Generation</td>\n",
       "      <td>xavier</td>\n",
       "      <td>1.0</td>\n",
       "      <td>23</td>\n",
       "    </tr>\n",
       "    <tr>\n",
       "      <th>3</th>\n",
       "      <td>The Elephant Man (film)</td>\n",
       "      <td>treves</td>\n",
       "      <td>0.0</td>\n",
       "      <td>3</td>\n",
       "    </tr>\n",
       "    <tr>\n",
       "      <th>4</th>\n",
       "      <td>The Elephant Man (film)</td>\n",
       "      <td>merrick</td>\n",
       "      <td>0.0</td>\n",
       "      <td>8</td>\n",
       "    </tr>\n",
       "  </tbody>\n",
       "</table>\n",
       "</div>"
      ],
      "text/plain": [
       "                      film main_char  gender  top_topic\n",
       "0      The Doom Generation       amy     1.0         23\n",
       "1      The Doom Generation    jordan     1.0          6\n",
       "2      The Doom Generation    xavier     1.0         23\n",
       "3  The Elephant Man (film)    treves     0.0          3\n",
       "4  The Elephant Man (film)   merrick     0.0          8"
      ]
     },
     "execution_count": 71,
     "metadata": {},
     "output_type": "execute_result"
    }
   ],
   "source": [
    "topics_df = pd.read_csv('../data/char_topics25.csv')\n",
    "topics_df.head(5)"
   ]
  },
  {
   "cell_type": "code",
   "execution_count": 72,
   "metadata": {},
   "outputs": [
    {
     "data": {
      "text/html": [
       "<div>\n",
       "<style scoped>\n",
       "    .dataframe tbody tr th:only-of-type {\n",
       "        vertical-align: middle;\n",
       "    }\n",
       "\n",
       "    .dataframe tbody tr th {\n",
       "        vertical-align: top;\n",
       "    }\n",
       "\n",
       "    .dataframe thead th {\n",
       "        text-align: right;\n",
       "    }\n",
       "</style>\n",
       "<table border=\"1\" class=\"dataframe\">\n",
       "  <thead>\n",
       "    <tr style=\"text-align: right;\">\n",
       "      <th></th>\n",
       "      <th>film</th>\n",
       "      <th>main_char</th>\n",
       "      <th>gender</th>\n",
       "      <th>top_topic</th>\n",
       "    </tr>\n",
       "  </thead>\n",
       "  <tbody>\n",
       "    <tr>\n",
       "      <th>1342</th>\n",
       "      <td>Pirates of the Caribbean: The Curse of the Bla...</td>\n",
       "      <td>jack</td>\n",
       "      <td>0.0</td>\n",
       "      <td>9</td>\n",
       "    </tr>\n",
       "    <tr>\n",
       "      <th>1343</th>\n",
       "      <td>Pirates of the Caribbean: The Curse of the Bla...</td>\n",
       "      <td>elizabeth</td>\n",
       "      <td>1.0</td>\n",
       "      <td>9</td>\n",
       "    </tr>\n",
       "    <tr>\n",
       "      <th>1344</th>\n",
       "      <td>Pirates of the Caribbean: The Curse of the Bla...</td>\n",
       "      <td>barbossa</td>\n",
       "      <td>0.0</td>\n",
       "      <td>9</td>\n",
       "    </tr>\n",
       "    <tr>\n",
       "      <th>1345</th>\n",
       "      <td>Pirates of the Caribbean: The Curse of the Bla...</td>\n",
       "      <td>will</td>\n",
       "      <td>0.0</td>\n",
       "      <td>9</td>\n",
       "    </tr>\n",
       "    <tr>\n",
       "      <th>1346</th>\n",
       "      <td>Pirates of the Caribbean: The Curse of the Bla...</td>\n",
       "      <td>norrington</td>\n",
       "      <td>0.0</td>\n",
       "      <td>12</td>\n",
       "    </tr>\n",
       "  </tbody>\n",
       "</table>\n",
       "</div>"
      ],
      "text/plain": [
       "                                                   film   main_char  gender  \\\n",
       "1342  Pirates of the Caribbean: The Curse of the Bla...        jack     0.0   \n",
       "1343  Pirates of the Caribbean: The Curse of the Bla...   elizabeth     1.0   \n",
       "1344  Pirates of the Caribbean: The Curse of the Bla...    barbossa     0.0   \n",
       "1345  Pirates of the Caribbean: The Curse of the Bla...        will     0.0   \n",
       "1346  Pirates of the Caribbean: The Curse of the Bla...  norrington     0.0   \n",
       "\n",
       "      top_topic  \n",
       "1342          9  \n",
       "1343          9  \n",
       "1344          9  \n",
       "1345          9  \n",
       "1346         12  "
      ]
     },
     "execution_count": 72,
     "metadata": {},
     "output_type": "execute_result"
    }
   ],
   "source": [
    "topics_df[topics_df['film'] == 'Pirates of the Caribbean: The Curse of the Black Pearl']"
   ]
  },
  {
   "cell_type": "code",
   "execution_count": 66,
   "metadata": {},
   "outputs": [
    {
     "data": {
      "image/png": "[encoded data removed]",
      "text/plain": [
       "<matplotlib.figure.Figure at 0x11e43dba8>"
      ]
     },
     "metadata": {},
     "output_type": "display_data"
    }
   ],
   "source": [
    "topics_df['top_topic'].hist(bins=25, color='skyblue', figsize=(6,4), grid=False)\n",
    "plt.xlabel('Topic')\n",
    "plt.ylabel('Number of main characters')\n",
    "plt.title('Distribution of Main Character Topics')\n",
    "plt.savefig('../plots/topic_distr.png')"
   ]
  },
  {
   "cell_type": "code",
   "execution_count": 67,
   "metadata": {},
   "outputs": [
    {
     "data": {
      "image/png": "[encoded data removed]",
      "text/plain": [
       "<matplotlib.figure.Figure at 0x11e447a58>"
      ]
     },
     "metadata": {},
     "output_type": "display_data"
    }
   ],
   "source": [
    "fem_topics = topics_df[topics_df['gender'] == 1.0]['top_topic']\n",
    "male_topics = topics_df[topics_df['gender'] == 0.0]['top_topic']\n",
    "\n",
    "fem_weights = np.ones_like(fem_topics) / float(len(fem_topics))\n",
    "male_weights = np.ones_like(male_topics) / float(len(male_topics))\n",
    "\n",
    "male_topics.hist(bins=25, color='slateblue', figsize=(6,4), weights=male_weights, grid=False, label='male')\n",
    "fem_topics.hist(bins=25, color='skyblue', alpha=0.7, figsize=(6,4), weights=fem_weights, grid=False, label='female')\n",
    "plt.legend()\n",
    "plt.title('Distribution of Main Character Topics')\n",
    "plt.xlabel('Topic')\n",
    "plt.ylabel('Ratio of characters')\n",
    "plt.savefig('../plots/topic-distr-gender.png')"
   ]
  },
  {
   "cell_type": "code",
   "execution_count": 73,
   "metadata": {},
   "outputs": [
    {
     "data": {
      "text/plain": [
       "Text(0,0.5,'Ratio of characters')"
      ]
     },
     "execution_count": 73,
     "metadata": {},
     "output_type": "execute_result"
    },
    {
     "data": {
      "image/png": "[encoded data removed]",
      "text/plain": [
       "<matplotlib.figure.Figure at 0x117cfae10>"
      ]
     },
     "metadata": {},
     "output_type": "display_data"
    }
   ],
   "source": [
    "# presentation\n",
    "fem_topics = topics_df[topics_df['gender'] == 1.0]['top_topic']\n",
    "male_topics = topics_df[topics_df['gender'] == 0.0]['top_topic']\n",
    "\n",
    "fem_weights = np.ones_like(fem_topics) / float(len(fem_topics))\n",
    "male_weights = np.ones_like(male_topics) / float(len(male_topics))\n",
    "\n",
    "male_topics.hist(bins=25, color='slateblue', figsize=(12,8), weights=male_weights, grid=False, label='male')\n",
    "fem_topics.hist(bins=25, color='skyblue', alpha=0.7, figsize=(12,8), weights=fem_weights, grid=False, label='female')\n",
    "plt.legend()\n",
    "plt.title('Distribution of Main Character Topics')\n",
    "plt.xlabel('Topic')\n",
    "plt.ylabel('Ratio of characters')"
   ]
  },
  {
   "cell_type": "code",
   "execution_count": 68,
   "metadata": {},
   "outputs": [],
   "source": [
    "fem_topic_df = topics_df[topics_df['gender'] == 1.0].groupby('top_topic').count().reset_index()[['top_topic','film']]\n",
    "fem_topic_df.columns = ['top_topic','female']\n",
    "num_fem = sum(list(fem_topic_df.female))\n",
    "fem_topic_df['female'] = fem_topic_df['female'] * 100 / num_fem\n",
    "\n",
    "male_topic_df = topics_df[topics_df['gender'] == 0.0].groupby('top_topic').count().reset_index()[['top_topic','film']]\n",
    "male_topic_df.columns = ['top_topic','male']\n",
    "num_male = sum(list(male_topic_df.male))\n",
    "male_topic_df['male'] = male_topic_df['male'] * 100 / num_male"
   ]
  },
  {
   "cell_type": "code",
   "execution_count": 69,
   "metadata": {},
   "outputs": [],
   "source": [
    "gender_topics_df = fem_topic_df.merge(male_topic_df, on='top_topic')\n",
    "gender_topics_df.to_csv('../data/gender_topics25.csv', index=False)"
   ]
  },
  {
   "cell_type": "code",
   "execution_count": 70,
   "metadata": {},
   "outputs": [
    {
     "data": {
      "text/html": [
       "<div>\n",
       "<style scoped>\n",
       "    .dataframe tbody tr th:only-of-type {\n",
       "        vertical-align: middle;\n",
       "    }\n",
       "\n",
       "    .dataframe tbody tr th {\n",
       "        vertical-align: top;\n",
       "    }\n",
       "\n",
       "    .dataframe thead th {\n",
       "        text-align: right;\n",
       "    }\n",
       "</style>\n",
       "<table border=\"1\" class=\"dataframe\">\n",
       "  <thead>\n",
       "    <tr style=\"text-align: right;\">\n",
       "      <th></th>\n",
       "      <th>top_topic</th>\n",
       "      <th>female</th>\n",
       "      <th>male</th>\n",
       "    </tr>\n",
       "  </thead>\n",
       "  <tbody>\n",
       "    <tr>\n",
       "      <th>0</th>\n",
       "      <td>1</td>\n",
       "      <td>0.290023</td>\n",
       "      <td>0.254237</td>\n",
       "    </tr>\n",
       "    <tr>\n",
       "      <th>1</th>\n",
       "      <td>2</td>\n",
       "      <td>1.102088</td>\n",
       "      <td>1.271186</td>\n",
       "    </tr>\n",
       "    <tr>\n",
       "      <th>2</th>\n",
       "      <td>3</td>\n",
       "      <td>4.466357</td>\n",
       "      <td>5.423729</td>\n",
       "    </tr>\n",
       "    <tr>\n",
       "      <th>3</th>\n",
       "      <td>4</td>\n",
       "      <td>0.174014</td>\n",
       "      <td>0.211864</td>\n",
       "    </tr>\n",
       "    <tr>\n",
       "      <th>4</th>\n",
       "      <td>5</td>\n",
       "      <td>1.856148</td>\n",
       "      <td>0.805085</td>\n",
       "    </tr>\n",
       "    <tr>\n",
       "      <th>5</th>\n",
       "      <td>6</td>\n",
       "      <td>25.522042</td>\n",
       "      <td>28.093220</td>\n",
       "    </tr>\n",
       "    <tr>\n",
       "      <th>6</th>\n",
       "      <td>7</td>\n",
       "      <td>0.174014</td>\n",
       "      <td>0.254237</td>\n",
       "    </tr>\n",
       "    <tr>\n",
       "      <th>7</th>\n",
       "      <td>8</td>\n",
       "      <td>19.199536</td>\n",
       "      <td>17.161017</td>\n",
       "    </tr>\n",
       "    <tr>\n",
       "      <th>8</th>\n",
       "      <td>9</td>\n",
       "      <td>17.865429</td>\n",
       "      <td>11.440678</td>\n",
       "    </tr>\n",
       "    <tr>\n",
       "      <th>9</th>\n",
       "      <td>10</td>\n",
       "      <td>2.494200</td>\n",
       "      <td>2.711864</td>\n",
       "    </tr>\n",
       "    <tr>\n",
       "      <th>10</th>\n",
       "      <td>11</td>\n",
       "      <td>0.812065</td>\n",
       "      <td>1.101695</td>\n",
       "    </tr>\n",
       "    <tr>\n",
       "      <th>11</th>\n",
       "      <td>12</td>\n",
       "      <td>0.522042</td>\n",
       "      <td>1.398305</td>\n",
       "    </tr>\n",
       "    <tr>\n",
       "      <th>12</th>\n",
       "      <td>13</td>\n",
       "      <td>0.638051</td>\n",
       "      <td>0.677966</td>\n",
       "    </tr>\n",
       "    <tr>\n",
       "      <th>13</th>\n",
       "      <td>14</td>\n",
       "      <td>0.174014</td>\n",
       "      <td>0.127119</td>\n",
       "    </tr>\n",
       "    <tr>\n",
       "      <th>14</th>\n",
       "      <td>15</td>\n",
       "      <td>0.522042</td>\n",
       "      <td>0.381356</td>\n",
       "    </tr>\n",
       "    <tr>\n",
       "      <th>15</th>\n",
       "      <td>16</td>\n",
       "      <td>0.232019</td>\n",
       "      <td>0.508475</td>\n",
       "    </tr>\n",
       "    <tr>\n",
       "      <th>16</th>\n",
       "      <td>17</td>\n",
       "      <td>0.464037</td>\n",
       "      <td>1.610169</td>\n",
       "    </tr>\n",
       "    <tr>\n",
       "      <th>17</th>\n",
       "      <td>18</td>\n",
       "      <td>0.870070</td>\n",
       "      <td>0.889831</td>\n",
       "    </tr>\n",
       "    <tr>\n",
       "      <th>18</th>\n",
       "      <td>19</td>\n",
       "      <td>0.928074</td>\n",
       "      <td>1.186441</td>\n",
       "    </tr>\n",
       "    <tr>\n",
       "      <th>19</th>\n",
       "      <td>20</td>\n",
       "      <td>0.522042</td>\n",
       "      <td>1.186441</td>\n",
       "    </tr>\n",
       "    <tr>\n",
       "      <th>20</th>\n",
       "      <td>21</td>\n",
       "      <td>0.580046</td>\n",
       "      <td>0.847458</td>\n",
       "    </tr>\n",
       "    <tr>\n",
       "      <th>21</th>\n",
       "      <td>22</td>\n",
       "      <td>2.842227</td>\n",
       "      <td>3.559322</td>\n",
       "    </tr>\n",
       "    <tr>\n",
       "      <th>22</th>\n",
       "      <td>23</td>\n",
       "      <td>1.276102</td>\n",
       "      <td>2.245763</td>\n",
       "    </tr>\n",
       "    <tr>\n",
       "      <th>23</th>\n",
       "      <td>24</td>\n",
       "      <td>0.464037</td>\n",
       "      <td>0.593220</td>\n",
       "    </tr>\n",
       "    <tr>\n",
       "      <th>24</th>\n",
       "      <td>25</td>\n",
       "      <td>16.009281</td>\n",
       "      <td>16.059322</td>\n",
       "    </tr>\n",
       "  </tbody>\n",
       "</table>\n",
       "</div>"
      ],
      "text/plain": [
       "    top_topic     female       male\n",
       "0           1   0.290023   0.254237\n",
       "1           2   1.102088   1.271186\n",
       "2           3   4.466357   5.423729\n",
       "3           4   0.174014   0.211864\n",
       "4           5   1.856148   0.805085\n",
       "5           6  25.522042  28.093220\n",
       "6           7   0.174014   0.254237\n",
       "7           8  19.199536  17.161017\n",
       "8           9  17.865429  11.440678\n",
       "9          10   2.494200   2.711864\n",
       "10         11   0.812065   1.101695\n",
       "11         12   0.522042   1.398305\n",
       "12         13   0.638051   0.677966\n",
       "13         14   0.174014   0.127119\n",
       "14         15   0.522042   0.381356\n",
       "15         16   0.232019   0.508475\n",
       "16         17   0.464037   1.610169\n",
       "17         18   0.870070   0.889831\n",
       "18         19   0.928074   1.186441\n",
       "19         20   0.522042   1.186441\n",
       "20         21   0.580046   0.847458\n",
       "21         22   2.842227   3.559322\n",
       "22         23   1.276102   2.245763\n",
       "23         24   0.464037   0.593220\n",
       "24         25  16.009281  16.059322"
      ]
     },
     "execution_count": 70,
     "metadata": {},
     "output_type": "execute_result"
    }
   ],
   "source": [
    "gender_topics_df"
   ]
  },
  {
   "cell_type": "markdown",
   "metadata": {},
   "source": [
    "## 10 topics"
   ]
  },
  {
   "cell_type": "code",
   "execution_count": 59,
   "metadata": {},
   "outputs": [
    {
     "data": {
      "text/html": [
       "<div>\n",
       "<style scoped>\n",
       "    .dataframe tbody tr th:only-of-type {\n",
       "        vertical-align: middle;\n",
       "    }\n",
       "\n",
       "    .dataframe tbody tr th {\n",
       "        vertical-align: top;\n",
       "    }\n",
       "\n",
       "    .dataframe thead th {\n",
       "        text-align: right;\n",
       "    }\n",
       "</style>\n",
       "<table border=\"1\" class=\"dataframe\">\n",
       "  <thead>\n",
       "    <tr style=\"text-align: right;\">\n",
       "      <th></th>\n",
       "      <th>film</th>\n",
       "      <th>main_char</th>\n",
       "      <th>gender</th>\n",
       "      <th>top_topic</th>\n",
       "    </tr>\n",
       "  </thead>\n",
       "  <tbody>\n",
       "    <tr>\n",
       "      <th>0</th>\n",
       "      <td>The Doom Generation</td>\n",
       "      <td>amy</td>\n",
       "      <td>1.0</td>\n",
       "      <td>8</td>\n",
       "    </tr>\n",
       "    <tr>\n",
       "      <th>1</th>\n",
       "      <td>The Doom Generation</td>\n",
       "      <td>jordan</td>\n",
       "      <td>1.0</td>\n",
       "      <td>8</td>\n",
       "    </tr>\n",
       "    <tr>\n",
       "      <th>2</th>\n",
       "      <td>The Doom Generation</td>\n",
       "      <td>xavier</td>\n",
       "      <td>1.0</td>\n",
       "      <td>8</td>\n",
       "    </tr>\n",
       "    <tr>\n",
       "      <th>3</th>\n",
       "      <td>The Elephant Man (film)</td>\n",
       "      <td>treves</td>\n",
       "      <td>0.0</td>\n",
       "      <td>9</td>\n",
       "    </tr>\n",
       "    <tr>\n",
       "      <th>4</th>\n",
       "      <td>The Elephant Man (film)</td>\n",
       "      <td>merrick</td>\n",
       "      <td>0.0</td>\n",
       "      <td>4</td>\n",
       "    </tr>\n",
       "  </tbody>\n",
       "</table>\n",
       "</div>"
      ],
      "text/plain": [
       "                      film main_char  gender  top_topic\n",
       "0      The Doom Generation       amy     1.0          8\n",
       "1      The Doom Generation    jordan     1.0          8\n",
       "2      The Doom Generation    xavier     1.0          8\n",
       "3  The Elephant Man (film)    treves     0.0          9\n",
       "4  The Elephant Man (film)   merrick     0.0          4"
      ]
     },
     "execution_count": 59,
     "metadata": {},
     "output_type": "execute_result"
    }
   ],
   "source": [
    "topics_df = pd.read_csv('../data/char_topics10.csv')\n",
    "topics_df.head(5)"
   ]
  },
  {
   "cell_type": "code",
   "execution_count": 60,
   "metadata": {},
   "outputs": [
    {
     "data": {
      "image/png": "[encoded data removed]",
      "text/plain": [
       "<matplotlib.figure.Figure at 0x11e466c50>"
      ]
     },
     "metadata": {},
     "output_type": "display_data"
    }
   ],
   "source": [
    "topics_df['top_topic'].hist(bins=10, color='skyblue', figsize=(6,4), grid=False)\n",
    "plt.xlabel('Topic')\n",
    "plt.ylabel('Number of main characters')\n",
    "plt.title('Distribution of Main Character Topics')\n",
    "plt.savefig('../plots/topic-distr10.png')"
   ]
  },
  {
   "cell_type": "code",
   "execution_count": 61,
   "metadata": {},
   "outputs": [
    {
     "data": {
      "image/png": "[encoded data removed]",
      "text/plain": [
       "<matplotlib.figure.Figure at 0x11e447ac8>"
      ]
     },
     "metadata": {},
     "output_type": "display_data"
    }
   ],
   "source": [
    "fem_topics = topics_df[topics_df['gender'] == 1.0]['top_topic']\n",
    "male_topics = topics_df[topics_df['gender'] == 0.0]['top_topic']\n",
    "\n",
    "fem_weights = np.ones_like(fem_topics) / float(len(fem_topics))\n",
    "male_weights = np.ones_like(male_topics) / float(len(male_topics))\n",
    "\n",
    "male_topics.hist(bins=10, color='slateblue', figsize=(6,4), weights=male_weights, grid=False, label='male')\n",
    "fem_topics.hist(bins=10, color='skyblue', alpha=0.7, figsize=(6,4), weights=fem_weights, grid=False, label='female')\n",
    "plt.legend()\n",
    "plt.title('Distribution of Main Character Topics')\n",
    "plt.xlabel('Topic')\n",
    "plt.ylabel('Ratio of characters')\n",
    "plt.savefig('../plots/topic-distr-gender10.png')"
   ]
  },
  {
   "cell_type": "code",
   "execution_count": 62,
   "metadata": {},
   "outputs": [],
   "source": [
    "fem_topic_df = topics_df[topics_df['gender'] == 1.0].groupby('top_topic').count().reset_index()[['top_topic','film']]\n",
    "fem_topic_df.columns = ['top_topic','female']\n",
    "num_fem = sum(list(fem_topic_df.female))\n",
    "fem_topic_df['female'] = fem_topic_df['female'] * 100 / num_fem\n",
    "\n",
    "male_topic_df = topics_df[topics_df['gender'] == 0.0].groupby('top_topic').count().reset_index()[['top_topic','film']]\n",
    "male_topic_df.columns = ['top_topic','male']\n",
    "num_male = sum(list(male_topic_df.male))\n",
    "male_topic_df['male'] = male_topic_df['male'] * 100 / num_male"
   ]
  },
  {
   "cell_type": "code",
   "execution_count": 63,
   "metadata": {},
   "outputs": [
    {
     "data": {
      "text/html": [
       "<div>\n",
       "<style scoped>\n",
       "    .dataframe tbody tr th:only-of-type {\n",
       "        vertical-align: middle;\n",
       "    }\n",
       "\n",
       "    .dataframe tbody tr th {\n",
       "        vertical-align: top;\n",
       "    }\n",
       "\n",
       "    .dataframe thead th {\n",
       "        text-align: right;\n",
       "    }\n",
       "</style>\n",
       "<table border=\"1\" class=\"dataframe\">\n",
       "  <thead>\n",
       "    <tr style=\"text-align: right;\">\n",
       "      <th></th>\n",
       "      <th>top_topic</th>\n",
       "      <th>female</th>\n",
       "      <th>male</th>\n",
       "    </tr>\n",
       "  </thead>\n",
       "  <tbody>\n",
       "    <tr>\n",
       "      <th>0</th>\n",
       "      <td>1</td>\n",
       "      <td>42.749420</td>\n",
       "      <td>38.305085</td>\n",
       "    </tr>\n",
       "    <tr>\n",
       "      <th>1</th>\n",
       "      <td>2</td>\n",
       "      <td>1.914153</td>\n",
       "      <td>2.203390</td>\n",
       "    </tr>\n",
       "    <tr>\n",
       "      <th>2</th>\n",
       "      <td>3</td>\n",
       "      <td>8.932715</td>\n",
       "      <td>8.220339</td>\n",
       "    </tr>\n",
       "    <tr>\n",
       "      <th>3</th>\n",
       "      <td>4</td>\n",
       "      <td>26.450116</td>\n",
       "      <td>28.516949</td>\n",
       "    </tr>\n",
       "    <tr>\n",
       "      <th>4</th>\n",
       "      <td>5</td>\n",
       "      <td>5.858469</td>\n",
       "      <td>6.144068</td>\n",
       "    </tr>\n",
       "    <tr>\n",
       "      <th>5</th>\n",
       "      <td>6</td>\n",
       "      <td>2.204176</td>\n",
       "      <td>3.135593</td>\n",
       "    </tr>\n",
       "    <tr>\n",
       "      <th>6</th>\n",
       "      <td>7</td>\n",
       "      <td>1.798144</td>\n",
       "      <td>4.194915</td>\n",
       "    </tr>\n",
       "    <tr>\n",
       "      <th>7</th>\n",
       "      <td>8</td>\n",
       "      <td>3.770302</td>\n",
       "      <td>4.279661</td>\n",
       "    </tr>\n",
       "    <tr>\n",
       "      <th>8</th>\n",
       "      <td>9</td>\n",
       "      <td>5.626450</td>\n",
       "      <td>4.491525</td>\n",
       "    </tr>\n",
       "    <tr>\n",
       "      <th>9</th>\n",
       "      <td>10</td>\n",
       "      <td>0.696056</td>\n",
       "      <td>0.508475</td>\n",
       "    </tr>\n",
       "  </tbody>\n",
       "</table>\n",
       "</div>"
      ],
      "text/plain": [
       "   top_topic     female       male\n",
       "0          1  42.749420  38.305085\n",
       "1          2   1.914153   2.203390\n",
       "2          3   8.932715   8.220339\n",
       "3          4  26.450116  28.516949\n",
       "4          5   5.858469   6.144068\n",
       "5          6   2.204176   3.135593\n",
       "6          7   1.798144   4.194915\n",
       "7          8   3.770302   4.279661\n",
       "8          9   5.626450   4.491525\n",
       "9         10   0.696056   0.508475"
      ]
     },
     "execution_count": 63,
     "metadata": {},
     "output_type": "execute_result"
    }
   ],
   "source": [
    "fem_topic_df.merge(male_topic_df, on='top_topic')"
   ]
  },
  {
   "cell_type": "code",
   "execution_count": 64,
   "metadata": {},
   "outputs": [],
   "source": [
    "gender_topics_df = fem_topic_df.merge(male_topic_df, on='top_topic')\n",
    "gender_topics_df.to_csv('../data/gender_topics10.csv', index=False)"
   ]
  }
 ],
 "metadata": {
  "kernelspec": {
   "display_name": "Python 3",
   "language": "python",
   "name": "python3"
  },
  "language_info": {
   "codemirror_mode": {
    "name": "ipython",
    "version": 3
   },
   "file_extension": ".py",
   "mimetype": "text/x-python",
   "name": "python",
   "nbconvert_exporter": "python",
   "pygments_lexer": "ipython3",
   "version": "3.6.4"
  }
 },
 "nbformat": 4,
 "nbformat_minor": 2
}
