{
 "cells": [
  {
   "cell_type": "code",
   "execution_count": 190,
   "metadata": {},
   "outputs": [],
   "source": [
    "import gensim.downloader as api\n",
    "import pandas as pd\n",
    "import os\n",
    "import nltk\n",
    "\n",
    "from gensim.matutils import softcossim\n",
    "from gensim.test.utils import common_texts\n",
    "from gensim.corpora import Dictionary\n",
    "from gensim.models import Word2Vec, WordEmbeddingSimilarityIndex\n",
    "from gensim.similarities import SoftCosineSimilarity, SparseTermSimilarityMatrix\n",
    "from nltk.corpus import stopwords\n",
    "from textblob import TextBlob"
   ]
  },
  {
   "cell_type": "code",
   "execution_count": 4,
   "metadata": {},
   "outputs": [],
   "source": [
    "model = api.load('glove-wiki-gigaword-300')"
   ]
  },
  {
   "cell_type": "code",
   "execution_count": 29,
   "metadata": {},
   "outputs": [],
   "source": [
    "stoplist = stopwords.words('english')"
   ]
  },
  {
   "cell_type": "code",
   "execution_count": 176,
   "metadata": {},
   "outputs": [],
   "source": [
    "def default_clean(text):\n",
    "    '''\n",
    "    Removes default bad characters\n",
    "    '''\n",
    "    bad_chars = set([\"@\", \"+\", '/', \"'\", '\"', '\\\\','(',')', '', '\\\\n', '', '?', '#', ',','.', '[',']', '%', '$', '&', ';', '!', ';', ':',\"*\", \"_\", \"=\", \"}\", \"{\"])\n",
    "    for char in bad_chars:\n",
    "        text = text.replace(char, \"\")\n",
    "    text = text.lower().split()\n",
    "    text = [w for w in text if w not in stoplist]\n",
    "    text = [w for w in text if w.isalpha()]\n",
    "#     text = [st.stem(w) for w in text]\n",
    "#     text = [str(TextBlob(w).correct()) for w in text]\n",
    "    return text"
   ]
  },
  {
   "cell_type": "code",
   "execution_count": 177,
   "metadata": {},
   "outputs": [],
   "source": [
    "def get_doc_text(filename):\n",
    "    ''' Given a filename, return a string list representation of \n",
    "        its contents. '''\n",
    "\n",
    "    contents = []\n",
    "    with open(filename, 'r') as f:\n",
    "        contents = f.readlines()\n",
    "    f.close()\n",
    "    text_str = ' '.join(contents)\n",
    "    return default_clean(text_str)"
   ]
  },
  {
   "cell_type": "code",
   "execution_count": 235,
   "metadata": {},
   "outputs": [],
   "source": [
    "hero_texts = []\n",
    "hero_names = []\n",
    "heroine_texts = []\n",
    "heroine_names = []\n",
    "hero_folder = os.getcwd() + '/data/topic_modeling/archetypes/hero'\n",
    "heroine_folder = os.getcwd() + '/data/topic_modeling/archetypes/heroine'\n",
    "\n",
    "for f in os.listdir(hero_folder): # add all archetype description texts\n",
    "    file = hero_folder + '/' + f\n",
    "    hero_texts.append(get_doc_text(file))\n",
    "    hero_names.append(f.replace('.txt',''))\n",
    "    \n",
    "for f in os.listdir(heroine_folder): # add all archetype description texts\n",
    "    file = heroine_folder + '/' + f\n",
    "    heroine_texts.append(get_doc_text(file))\n",
    "    heroine_names.append(f.replace('.txt',''))"
   ]
  },
  {
   "cell_type": "code",
   "execution_count": 236,
   "metadata": {},
   "outputs": [
    {
     "name": "stderr",
     "output_type": "stream",
     "text": [
      "/anaconda3/lib/python3.6/site-packages/ipykernel_launcher.py:7: DeprecationWarning: Call to deprecated `wv` (Attribute will be removed in 4.0.0, use self instead).\n",
      "  import sys\n"
     ]
    }
   ],
   "source": [
    "topic_folder = os.getcwd() + '/data/topic_modeling/archetypes/topics'\n",
    "topic_rows = []\n",
    "\n",
    "for f in os.listdir(topic_folder): # add all archetype description texts\n",
    "    file = topic_folder + '/' + f\n",
    "    topic_text = get_doc_text(file)\n",
    "    topic_text = [t for t in topic_text if t in model.wv.vocab]\n",
    "    \n",
    "    top_hero_score = 0\n",
    "    top_hero = ''\n",
    "    for (name, arch_text) in zip(hero_names, hero_texts):\n",
    "        score = model.n_similarity(topic_text, arch_text)\n",
    "        if score > top_hero_score:\n",
    "            top_hero_score = score\n",
    "            top_hero = name\n",
    "            \n",
    "    top_heroine_score = 0\n",
    "    top_heroine = ''\n",
    "    for (name, arch_text) in zip(heroine_names, heroine_texts):\n",
    "        score = model.n_similarity(topic_text, arch_text)\n",
    "        if score > top_heroine_score:\n",
    "            top_heroine_score = score\n",
    "            top_heroine = name\n",
    "    \n",
    "    row = [f.replace('.txt',''), top_hero, top_hero_score, top_heroine, top_heroine_score, ' '.join(topic_text)]\n",
    "    topic_rows.append(row)\n",
    "\n",
    "sim_df = pd.DataFrame(topic_rows, columns=['topic','top_hero','hero_score','top_heroine','heroine_score','topic_keys'])\n",
    "sim_df.to_csv('data/topic_modeling/archetypes/hero-topic-similarity.csv', index=False)"
   ]
  },
  {
   "cell_type": "code",
   "execution_count": 263,
   "metadata": {},
   "outputs": [],
   "source": [
    "common_texts = []\n",
    "common_names = []\n",
    "common_folder = os.getcwd() + '/data/topic_modeling/archetypes/jungian'\n",
    "\n",
    "for f in os.listdir(common_folder): # add all archetype description texts\n",
    "    file = common_folder + '/' + f\n",
    "    common_texts.append(get_doc_text(file))\n",
    "    common_names.append(f.replace('.txt',''))"
   ]
  },
  {
   "cell_type": "code",
   "execution_count": 264,
   "metadata": {},
   "outputs": [
    {
     "name": "stderr",
     "output_type": "stream",
     "text": [
      "/anaconda3/lib/python3.6/site-packages/ipykernel_launcher.py:7: DeprecationWarning: Call to deprecated `wv` (Attribute will be removed in 4.0.0, use self instead).\n",
      "  import sys\n",
      "/anaconda3/lib/python3.6/site-packages/ipykernel_launcher.py:12: DeprecationWarning: Call to deprecated `wv` (Attribute will be removed in 4.0.0, use self instead).\n",
      "  if sys.path[0] == '':\n"
     ]
    }
   ],
   "source": [
    "topic_folder = os.getcwd() + '/data/topic_modeling/archetypes/topics'\n",
    "topic_rows = []\n",
    "\n",
    "for f in os.listdir(topic_folder): # add all archetype description texts\n",
    "    file = topic_folder + '/' + f\n",
    "    topic_text = get_doc_text(file)\n",
    "    topic_text = [t for t in topic_text if t in model.wv.vocab]\n",
    "    \n",
    "    top_score = 0\n",
    "    top_name = ''\n",
    "    for (name, arch_text) in zip(common_names, common_texts):\n",
    "        arch_text = [t for t in arch_text if t in model.wv.vocab]\n",
    "        score = model.n_similarity(topic_text, arch_text)\n",
    "        if score > top_score:\n",
    "            top_score = score\n",
    "            top_name = name\n",
    "            \n",
    "    row = [f.replace('.txt',''), top_name, top_score, ' '.join(topic_text)]\n",
    "    topic_rows.append(row)\n",
    "\n",
    "sim_df = pd.DataFrame(topic_rows, columns=['topic','top_archetype','score','topic_keys'])\n",
    "sim_df.to_csv('data/topic_modeling/archetypes/jungian-topic-similarity.csv', index=False)"
   ]
  },
  {
   "cell_type": "code",
   "execution_count": 271,
   "metadata": {},
   "outputs": [],
   "source": [
    "topic16words = get_doc_text(topic_folder + '/topic16.txt')"
   ]
  },
  {
   "cell_type": "code",
   "execution_count": 281,
   "metadata": {},
   "outputs": [
    {
     "data": {
      "text/plain": [
       "9"
      ]
     },
     "execution_count": 281,
     "metadata": {},
     "output_type": "execute_result"
    }
   ],
   "source": [
    "common_names.index('orphan')"
   ]
  },
  {
   "cell_type": "code",
   "execution_count": 282,
   "metadata": {},
   "outputs": [
    {
     "name": "stderr",
     "output_type": "stream",
     "text": [
      "/anaconda3/lib/python3.6/site-packages/ipykernel_launcher.py:1: DeprecationWarning: Call to deprecated `wv` (Attribute will be removed in 4.0.0, use self instead).\n",
      "  \"\"\"Entry point for launching an IPython kernel.\n"
     ]
    },
    {
     "data": {
      "text/plain": [
       "0.7694518"
      ]
     },
     "execution_count": 282,
     "metadata": {},
     "output_type": "execute_result"
    }
   ],
   "source": [
    "arch_text = [t for t in common_texts[9] if t in model.wv.vocab]\n",
    "model.n_similarity(arch_text,topic5_words)"
   ]
  },
  {
   "cell_type": "code",
   "execution_count": 238,
   "metadata": {},
   "outputs": [
    {
     "data": {
      "text/plain": [
       "0.762655"
      ]
     },
     "execution_count": 238,
     "metadata": {},
     "output_type": "execute_result"
    }
   ],
   "source": [
    "model.n_similarity(heroine_texts[5],topic5_words)"
   ]
  },
  {
   "cell_type": "code",
   "execution_count": 239,
   "metadata": {},
   "outputs": [
    {
     "data": {
      "text/plain": [
       "0.7458608"
      ]
     },
     "execution_count": 239,
     "metadata": {},
     "output_type": "execute_result"
    }
   ],
   "source": [
    "model.n_similarity(heroine_texts[4],topic5_words)"
   ]
  },
  {
   "cell_type": "code",
   "execution_count": 260,
   "metadata": {},
   "outputs": [
    {
     "data": {
      "text/plain": [
       "['nurturer',\n",
       " 'kind',\n",
       " 'compassionate',\n",
       " 'woman',\n",
       " 'sacrifices',\n",
       " 'much',\n",
       " 'order',\n",
       " 'help',\n",
       " 'others',\n",
       " 'particularly',\n",
       " 'children',\n",
       " 'feels',\n",
       " 'responsible',\n",
       " 'whole',\n",
       " 'identity',\n",
       " 'tied',\n",
       " 'caring',\n",
       " 'others',\n",
       " 'controlling',\n",
       " 'mother',\n",
       " 'woman',\n",
       " 'butts',\n",
       " 'childrens',\n",
       " 'lives',\n",
       " 'need',\n",
       " 'needed',\n",
       " 'taken',\n",
       " 'extremes',\n",
       " 'might',\n",
       " 'even',\n",
       " 'kidnap',\n",
       " 'children',\n",
       " 'tried',\n",
       " 'leave']"
      ]
     },
     "execution_count": 260,
     "metadata": {},
     "output_type": "execute_result"
    }
   ],
   "source": [
    "heroine_texts[3]"
   ]
  },
  {
   "cell_type": "code",
   "execution_count": 256,
   "metadata": {},
   "outputs": [
    {
     "data": {
      "text/plain": [
       "['men',\n",
       " 'war',\n",
       " 'sir',\n",
       " 'soldiers',\n",
       " 'army',\n",
       " 'general',\n",
       " 'man',\n",
       " 'colonel',\n",
       " 'day',\n",
       " 'children',\n",
       " 'back',\n",
       " 'fire',\n",
       " 'ext',\n",
       " 'lieutenant',\n",
       " 'people',\n",
       " 'enemy',\n",
       " 'fight',\n",
       " 'int',\n",
       " 'boat',\n",
       " 'soldier']"
      ]
     },
     "execution_count": 256,
     "metadata": {},
     "output_type": "execute_result"
    }
   ],
   "source": [
    "topic20words"
   ]
  },
  {
   "cell_type": "code",
   "execution_count": null,
   "metadata": {},
   "outputs": [],
   "source": []
  }
 ],
 "metadata": {
  "kernelspec": {
   "display_name": "Python 3",
   "language": "python",
   "name": "python3"
  },
  "language_info": {
   "codemirror_mode": {
    "name": "ipython",
    "version": 3
   },
   "file_extension": ".py",
   "mimetype": "text/x-python",
   "name": "python",
   "nbconvert_exporter": "python",
   "pygments_lexer": "ipython3",
   "version": "3.6.4"
  }
 },
 "nbformat": 4,
 "nbformat_minor": 2
}
