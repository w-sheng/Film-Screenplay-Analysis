{
 "cells": [
  {
   "cell_type": "code",
   "execution_count": 1,
   "metadata": {},
   "outputs": [],
   "source": [
    "import csv\n",
    "import matplotlib.pyplot as plt\n",
    "import numpy as np\n",
    "import pandas as pd"
   ]
  },
  {
   "cell_type": "markdown",
   "metadata": {},
   "source": [
    "## aggregate film format statistics"
   ]
  },
  {
   "cell_type": "code",
   "execution_count": 9,
   "metadata": {},
   "outputs": [
    {
     "data": {
      "text/html": [
       "<div>\n",
       "<style scoped>\n",
       "    .dataframe tbody tr th:only-of-type {\n",
       "        vertical-align: middle;\n",
       "    }\n",
       "\n",
       "    .dataframe tbody tr th {\n",
       "        vertical-align: top;\n",
       "    }\n",
       "\n",
       "    .dataframe thead th {\n",
       "        text-align: right;\n",
       "    }\n",
       "</style>\n",
       "<table border=\"1\" class=\"dataframe\">\n",
       "  <thead>\n",
       "    <tr style=\"text-align: right;\">\n",
       "      <th></th>\n",
       "      <th>file</th>\n",
       "    </tr>\n",
       "    <tr>\n",
       "      <th>format</th>\n",
       "      <th></th>\n",
       "    </tr>\n",
       "  </thead>\n",
       "  <tbody>\n",
       "    <tr>\n",
       "      <th>0</th>\n",
       "      <td>17</td>\n",
       "    </tr>\n",
       "    <tr>\n",
       "      <th>2</th>\n",
       "      <td>43</td>\n",
       "    </tr>\n",
       "    <tr>\n",
       "      <th>3</th>\n",
       "      <td>3</td>\n",
       "    </tr>\n",
       "    <tr>\n",
       "      <th>4</th>\n",
       "      <td>3</td>\n",
       "    </tr>\n",
       "    <tr>\n",
       "      <th>5</th>\n",
       "      <td>12</td>\n",
       "    </tr>\n",
       "    <tr>\n",
       "      <th>6</th>\n",
       "      <td>1</td>\n",
       "    </tr>\n",
       "  </tbody>\n",
       "</table>\n",
       "</div>"
      ],
      "text/plain": [
       "        file\n",
       "format      \n",
       "0         17\n",
       "2         43\n",
       "3          3\n",
       "4          3\n",
       "5         12\n",
       "6          1"
      ]
     },
     "execution_count": 9,
     "metadata": {},
     "output_type": "execute_result"
    }
   ],
   "source": [
    "format_df = pd.read_csv('../data/screenplay-formats.csv')\n",
    "format_df.groupby('format').count()"
   ]
  },
  {
   "cell_type": "markdown",
   "metadata": {},
   "source": [
    "## identifying main characters (MCs)"
   ]
  },
  {
   "cell_type": "code",
   "execution_count": 6,
   "metadata": {},
   "outputs": [],
   "source": [
    "protag_df = pd.read_csv('../data/protags.csv')\n",
    "mc_df = pd.read_csv('../data/main_chars.csv')"
   ]
  },
  {
   "cell_type": "markdown",
   "metadata": {},
   "source": [
    "#### distribution of MCs"
   ]
  },
  {
   "cell_type": "code",
   "execution_count": 28,
   "metadata": {},
   "outputs": [
    {
     "data": {
      "image/png": "[encoded data removed]",
      "text/plain": [
       "<matplotlib.figure.Figure at 0x1154a24e0>"
      ]
     },
     "metadata": {},
     "output_type": "display_data"
    }
   ],
   "source": [
    "mc_distr_df = mc_df.groupby('film').count().reset_index()[['film','main_char']]\n",
    "plt.xlabel('Number of main characters')\n",
    "plt.ylabel('Number of films')\n",
    "plt.title('Distribution of Number of Main Characters in Films')\n",
    "mc_distr_df['main_char'].hist(bins=15, color='skyblue', figsize=(6,4), grid=False)\n",
    "plt.savefig('../plots/mc_distr.png')"
   ]
  },
  {
   "cell_type": "markdown",
   "metadata": {},
   "source": [
    "### protagonists by gender"
   ]
  },
  {
   "cell_type": "code",
   "execution_count": 34,
   "metadata": {},
   "outputs": [
    {
     "data": {
      "text/html": [
       "<div>\n",
       "<style scoped>\n",
       "    .dataframe tbody tr th:only-of-type {\n",
       "        vertical-align: middle;\n",
       "    }\n",
       "\n",
       "    .dataframe tbody tr th {\n",
       "        vertical-align: top;\n",
       "    }\n",
       "\n",
       "    .dataframe thead th {\n",
       "        text-align: right;\n",
       "    }\n",
       "</style>\n",
       "<table border=\"1\" class=\"dataframe\">\n",
       "  <thead>\n",
       "    <tr style=\"text-align: right;\">\n",
       "      <th></th>\n",
       "      <th>film</th>\n",
       "      <th>protag</th>\n",
       "      <th>gender</th>\n",
       "    </tr>\n",
       "  </thead>\n",
       "  <tbody>\n",
       "    <tr>\n",
       "      <th>0</th>\n",
       "      <td>The Doom Generation</td>\n",
       "      <td>AMY</td>\n",
       "      <td>1.0</td>\n",
       "    </tr>\n",
       "    <tr>\n",
       "      <th>1</th>\n",
       "      <td>The Elephant Man (film)</td>\n",
       "      <td>TREVES</td>\n",
       "      <td>0.0</td>\n",
       "    </tr>\n",
       "  </tbody>\n",
       "</table>\n",
       "</div>"
      ],
      "text/plain": [
       "                      film  protag  gender\n",
       "0      The Doom Generation     AMY     1.0\n",
       "1  The Elephant Man (film)  TREVES     0.0"
      ]
     },
     "execution_count": 34,
     "metadata": {},
     "output_type": "execute_result"
    }
   ],
   "source": [
    "protag_gender_df = pd.merge(protag_df, mc_df, left_on=['film','protag'], right_on=['film','main_char'])[['film','protag','gender']]\n",
    "protag_gender_df.head(2)"
   ]
  },
  {
   "cell_type": "code",
   "execution_count": 35,
   "metadata": {},
   "outputs": [
    {
     "data": {
      "text/html": [
       "<div>\n",
       "<style scoped>\n",
       "    .dataframe tbody tr th:only-of-type {\n",
       "        vertical-align: middle;\n",
       "    }\n",
       "\n",
       "    .dataframe tbody tr th {\n",
       "        vertical-align: top;\n",
       "    }\n",
       "\n",
       "    .dataframe thead th {\n",
       "        text-align: right;\n",
       "    }\n",
       "</style>\n",
       "<table border=\"1\" class=\"dataframe\">\n",
       "  <thead>\n",
       "    <tr style=\"text-align: right;\">\n",
       "      <th></th>\n",
       "      <th>film</th>\n",
       "      <th>protag</th>\n",
       "    </tr>\n",
       "    <tr>\n",
       "      <th>gender</th>\n",
       "      <th></th>\n",
       "      <th></th>\n",
       "    </tr>\n",
       "  </thead>\n",
       "  <tbody>\n",
       "    <tr>\n",
       "      <th>0.0</th>\n",
       "      <td>807</td>\n",
       "      <td>807</td>\n",
       "    </tr>\n",
       "    <tr>\n",
       "      <th>1.0</th>\n",
       "      <td>429</td>\n",
       "      <td>429</td>\n",
       "    </tr>\n",
       "  </tbody>\n",
       "</table>\n",
       "</div>"
      ],
      "text/plain": [
       "        film  protag\n",
       "gender              \n",
       "0.0      807     807\n",
       "1.0      429     429"
      ]
     },
     "execution_count": 35,
     "metadata": {},
     "output_type": "execute_result"
    }
   ],
   "source": [
    "protag_gender_df.groupby('gender').count()"
   ]
  },
  {
   "cell_type": "code",
   "execution_count": 38,
   "metadata": {},
   "outputs": [
    {
     "data": {
      "text/plain": [
       "23"
      ]
     },
     "execution_count": 38,
     "metadata": {},
     "output_type": "execute_result"
    }
   ],
   "source": [
    "protag_gender_df[np.isnan(protag_gender_df['gender'])].shape[0]"
   ]
  },
  {
   "cell_type": "markdown",
   "metadata": {},
   "source": [
    "### distribution by gender"
   ]
  },
  {
   "cell_type": "code",
   "execution_count": 41,
   "metadata": {},
   "outputs": [
    {
     "data": {
      "text/html": [
       "<div>\n",
       "<style scoped>\n",
       "    .dataframe tbody tr th:only-of-type {\n",
       "        vertical-align: middle;\n",
       "    }\n",
       "\n",
       "    .dataframe tbody tr th {\n",
       "        vertical-align: top;\n",
       "    }\n",
       "\n",
       "    .dataframe thead th {\n",
       "        text-align: right;\n",
       "    }\n",
       "</style>\n",
       "<table border=\"1\" class=\"dataframe\">\n",
       "  <thead>\n",
       "    <tr style=\"text-align: right;\">\n",
       "      <th></th>\n",
       "      <th>film</th>\n",
       "    </tr>\n",
       "    <tr>\n",
       "      <th>gender</th>\n",
       "      <th></th>\n",
       "    </tr>\n",
       "  </thead>\n",
       "  <tbody>\n",
       "    <tr>\n",
       "      <th>0.0</th>\n",
       "      <td>2361</td>\n",
       "    </tr>\n",
       "    <tr>\n",
       "      <th>1.0</th>\n",
       "      <td>1723</td>\n",
       "    </tr>\n",
       "  </tbody>\n",
       "</table>\n",
       "</div>"
      ],
      "text/plain": [
       "        film\n",
       "gender      \n",
       "0.0     2361\n",
       "1.0     1723"
      ]
     },
     "execution_count": 41,
     "metadata": {},
     "output_type": "execute_result"
    }
   ],
   "source": [
    "mc_df.groupby('gender').count()[['film']]"
   ]
  },
  {
   "cell_type": "code",
   "execution_count": 42,
   "metadata": {},
   "outputs": [
    {
     "data": {
      "text/plain": [
       "164"
      ]
     },
     "execution_count": 42,
     "metadata": {},
     "output_type": "execute_result"
    }
   ],
   "source": [
    "mc_df[np.isnan(mc_df['gender'])].shape[0]"
   ]
  },
  {
   "cell_type": "code",
   "execution_count": 68,
   "metadata": {},
   "outputs": [
    {
     "data": {
      "text/plain": [
       "(1259, 5)"
      ]
     },
     "execution_count": 68,
     "metadata": {},
     "output_type": "execute_result"
    }
   ],
   "source": [
    "num_fem_df = mc_df.groupby('film').sum().reset_index()[['film','gender']]\n",
    "num_mc_df = mc_df.groupby('film').count().reset_index()[['film','main_char']]\n",
    "\n",
    "mc_gender_df = pd.merge(num_fem_df, num_mc_df)\n",
    "mc_gender_df.columns = ['film','num_fem','num_mc']\n",
    "mc_gender_df['num_male'] = mc_gender_df['num_mc'] - mc_gender_df['num_fem']\n",
    "mc_gender_df['fem_ratio'] = mc_gender_df['num_fem'] / mc_gender_df['num_mc']\n",
    "mc_gender_df.shape"
   ]
  },
  {
   "cell_type": "code",
   "execution_count": 140,
   "metadata": {},
   "outputs": [
    {
     "data": {
      "image/png": "[encoded data removed]",
      "text/plain": [
       "<matplotlib.figure.Figure at 0x120d00be0>"
      ]
     },
     "metadata": {},
     "output_type": "display_data"
    }
   ],
   "source": [
    "mc_gender_df['num_male'].hist(bins=12, color='slateblue', figsize=(6,4), grid=False, label='male')\n",
    "mc_gender_df['num_fem'].hist(bins=8, color='skyblue', alpha=0.7, figsize=(6,4), grid=False, label='female')\n",
    "\n",
    "plt.legend()\n",
    "plt.title('Distribution of Number of Main Characters in Films')\n",
    "plt.xlabel('Number of main characters')\n",
    "plt.ylabel('Number of films')\n",
    "plt.savefig('../plots/gender-distr.png')"
   ]
  },
  {
   "cell_type": "code",
   "execution_count": 70,
   "metadata": {},
   "outputs": [
    {
     "data": {
      "image/png": "[encoded data removed]",
      "text/plain": [
       "<matplotlib.figure.Figure at 0x117ebf710>"
      ]
     },
     "metadata": {},
     "output_type": "display_data"
    }
   ],
   "source": [
    "mc_gender_df['fem_ratio'].hist(bins=12, color='skyblue', figsize=(6,4), grid=False)\n",
    "plt.title('Distribution of Ratio of Female Main Characters in Films')\n",
    "plt.xlabel('Ratio of female main characters')\n",
    "plt.ylabel('Number of films')\n",
    "plt.savefig('../plots/fem-ratio-distr.png')"
   ]
  },
  {
   "cell_type": "markdown",
   "metadata": {},
   "source": [
    "### sentiment analysis"
   ]
  },
  {
   "cell_type": "code",
   "execution_count": 112,
   "metadata": {},
   "outputs": [],
   "source": [
    "senti_df = mc_df[['film','gender','sentiment_score']]"
   ]
  },
  {
   "cell_type": "code",
   "execution_count": 113,
   "metadata": {},
   "outputs": [
    {
     "data": {
      "text/html": [
       "<div>\n",
       "<style scoped>\n",
       "    .dataframe tbody tr th:only-of-type {\n",
       "        vertical-align: middle;\n",
       "    }\n",
       "\n",
       "    .dataframe tbody tr th {\n",
       "        vertical-align: top;\n",
       "    }\n",
       "\n",
       "    .dataframe thead th {\n",
       "        text-align: right;\n",
       "    }\n",
       "</style>\n",
       "<table border=\"1\" class=\"dataframe\">\n",
       "  <thead>\n",
       "    <tr style=\"text-align: right;\">\n",
       "      <th></th>\n",
       "      <th>sentiment_score</th>\n",
       "    </tr>\n",
       "    <tr>\n",
       "      <th>gender</th>\n",
       "      <th></th>\n",
       "    </tr>\n",
       "  </thead>\n",
       "  <tbody>\n",
       "    <tr>\n",
       "      <th>0.0</th>\n",
       "      <td>0.007613</td>\n",
       "    </tr>\n",
       "    <tr>\n",
       "      <th>1.0</th>\n",
       "      <td>0.013014</td>\n",
       "    </tr>\n",
       "  </tbody>\n",
       "</table>\n",
       "</div>"
      ],
      "text/plain": [
       "        sentiment_score\n",
       "gender                 \n",
       "0.0            0.007613\n",
       "1.0            0.013014"
      ]
     },
     "execution_count": 113,
     "metadata": {},
     "output_type": "execute_result"
    }
   ],
   "source": [
    "senti_df.groupby('gender').median()"
   ]
  },
  {
   "cell_type": "code",
   "execution_count": 118,
   "metadata": {},
   "outputs": [
    {
     "name": "stderr",
     "output_type": "stream",
     "text": [
      "/anaconda3/lib/python3.6/site-packages/ipykernel_launcher.py:9: SettingWithCopyWarning: \n",
      "A value is trying to be set on a copy of a slice from a DataFrame.\n",
      "Try using .loc[row_indexer,col_indexer] = value instead\n",
      "\n",
      "See the caveats in the documentation: http://pandas.pydata.org/pandas-docs/stable/indexing.html#indexing-view-versus-copy\n",
      "  if __name__ == '__main__':\n"
     ]
    }
   ],
   "source": [
    "def clip(x):\n",
    "    if (x > 0.15):\n",
    "        return 0.15\n",
    "    elif (x < -0.15): \n",
    "        return -0.15 \n",
    "    else:\n",
    "        return x\n",
    "\n",
    "senti_df['clipped'] = senti_df['sentiment_score'].apply(clip)"
   ]
  },
  {
   "cell_type": "code",
   "execution_count": 139,
   "metadata": {},
   "outputs": [
    {
     "data": {
      "image/png": "[encoded data removed]",
      "text/plain": [
       "<matplotlib.figure.Figure at 0x120cd1208>"
      ]
     },
     "metadata": {},
     "output_type": "display_data"
    }
   ],
   "source": [
    "fem_senti = senti_df[senti_df['gender'] == 1.0]['sentiment_score']\n",
    "male_senti = senti_df[senti_df['gender'] == 0.0]['sentiment_score']\n",
    "\n",
    "fem_weights = np.ones_like(fem_senti)/float(len(fem_senti))\n",
    "male_weights = np.ones_like(male_senti)/float(len(male_senti))\n",
    "\n",
    "male_senti.hist(bins=15, color='slateblue', figsize=(6,4), range=(-0.15, 0.15), weights=male_weights, grid=False, label='male')\n",
    "fem_senti.hist(bins=15, color='skyblue', alpha=0.7, figsize=(6,4), range=(-0.15, 0.15), weights=fem_weights, grid=False, label='female')\n",
    "plt.legend()\n",
    "plt.title('Sentiment Scores of Main Characters in Films')\n",
    "plt.xlabel('Sentiment score')\n",
    "plt.ylabel('Ratio of characters')\n",
    "plt.savefig('../plots/sentiment-distr.png')"
   ]
  },
  {
   "cell_type": "code",
   "execution_count": 89,
   "metadata": {},
   "outputs": [
    {
     "data": {
      "text/plain": [
       "0      -0.110739\n",
       "1       0.031100\n",
       "2      -0.030897\n",
       "8      -0.000171\n",
       "23      0.002931\n",
       "25     -0.004377\n",
       "28      0.013886\n",
       "29      0.032065\n",
       "35      0.029609\n",
       "38      0.024460\n",
       "39      0.028898\n",
       "43      0.000000\n",
       "45      0.000000\n",
       "48      0.038600\n",
       "49      0.493900\n",
       "52     -0.000668\n",
       "54      0.015491\n",
       "58     -0.010577\n",
       "59     -0.007986\n",
       "62      0.035981\n",
       "63      0.013041\n",
       "67      0.035185\n",
       "71      0.004165\n",
       "76      0.038301\n",
       "78      0.042234\n",
       "82      0.020042\n",
       "84      0.012296\n",
       "87      0.030696\n",
       "88     -0.006113\n",
       "90      0.000000\n",
       "          ...   \n",
       "4170    0.012213\n",
       "4171    0.035246\n",
       "4177    0.037364\n",
       "4181    0.000000\n",
       "4183    0.000000\n",
       "4184    0.028690\n",
       "4185    0.046593\n",
       "4186   -0.019335\n",
       "4188    0.042023\n",
       "4189    0.034419\n",
       "4191    0.000000\n",
       "4196    0.000000\n",
       "4198    0.033615\n",
       "4205   -0.007776\n",
       "4212   -0.017518\n",
       "4214   -0.016351\n",
       "4216    0.000000\n",
       "4217    0.000000\n",
       "4219    0.000000\n",
       "4224   -0.008231\n",
       "4225   -0.016872\n",
       "4230    0.049308\n",
       "4232    0.048605\n",
       "4233    0.081308\n",
       "4234   -0.018041\n",
       "4237    0.000000\n",
       "4239   -0.007959\n",
       "4245    0.039462\n",
       "4246    0.047309\n",
       "4247    0.015864\n",
       "Name: sentiment_score, Length: 1723, dtype: float64"
      ]
     },
     "execution_count": 89,
     "metadata": {},
     "output_type": "execute_result"
    }
   ],
   "source": [
    "fem_senti_df"
   ]
  },
  {
   "cell_type": "code",
   "execution_count": null,
   "metadata": {},
   "outputs": [],
   "source": []
  }
 ],
 "metadata": {
  "kernelspec": {
   "display_name": "Python 3",
   "language": "python",
   "name": "python3"
  },
  "language_info": {
   "codemirror_mode": {
    "name": "ipython",
    "version": 3
   },
   "file_extension": ".py",
   "mimetype": "text/x-python",
   "name": "python",
   "nbconvert_exporter": "python",
   "pygments_lexer": "ipython3",
   "version": "3.6.4"
  }
 },
 "nbformat": 4,
 "nbformat_minor": 2
}
